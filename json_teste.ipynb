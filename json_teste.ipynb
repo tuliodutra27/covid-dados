{
  "nbformat": 4,
  "nbformat_minor": 0,
  "metadata": {
    "colab": {
      "name": "json-teste.ipynb",
      "provenance": [],
      "authorship_tag": "ABX9TyOUYVnDn7UetgxrL+N47w2s",
      "include_colab_link": true
    },
    "kernelspec": {
      "name": "python3",
      "display_name": "Python 3"
    }
  },
  "cells": [
    {
      "cell_type": "markdown",
      "metadata": {
        "id": "view-in-github",
        "colab_type": "text"
      },
      "source": [
        "<a href=\"https://colab.research.google.com/github/tuliodutra27/covid-dados-bom-jesus/blob/master/json_teste.ipynb\" target=\"_parent\"><img src=\"https://colab.research.google.com/assets/colab-badge.svg\" alt=\"Open In Colab\"/></a>"
      ]
    },
    {
      "cell_type": "code",
      "metadata": {
        "id": "1HxOcEhzZqd6",
        "colab_type": "code",
        "colab": {
          "base_uri": "https://localhost:8080/",
          "height": 608
        },
        "outputId": "10c456a2-7d68-4796-c3f3-8b3f883f7380"
      },
      "source": [
        "%matplotlib inline\n",
        "#-*- coding: utf-8 -*-\n",
        "\n",
        "import json\n",
        "import pandas as pd\n",
        "import numpy as np\n",
        "!pip uninstall scikit-learn\n",
        "!pip install scikit-learn\n",
        "from sklearn.metrics import r2_score\n",
        "from sklearn.impute import SimpleImputer\n",
        "from sklearn.preprocessing import LabelEncoder\n",
        "from sklearn.preprocessing import StandardScaler\n",
        "import matplotlib.pyplot as plt\n",
        "from sklearn.model_selection import train_test_split\n",
        "from sklearn.linear_model import PoissonRegressor\n",
        "from sklearn.preprocessing import PolynomialFeatures\n",
        "from sklearn.linear_model import LinearRegression\n",
        "from sklearn.metrics import confusion_matrix\n",
        "\n",
        "def evaluate(pr,x,y1):\n",
        "    y2 = pr.predict(x)\n",
        "    nota = r2_score(y1,y2)\n",
        "    return nota,y2\n",
        "\n",
        "def convertedatas(data):\n",
        "    data.reverse()\n",
        "    data = np.asarray(data)\n",
        "    for i in range(0,data.size,1):\n",
        "      data[i] = i\n",
        "    data2 = data.reshape(-1,1)\n",
        "    data2 = data2.astype(np.int)\n",
        "    print(data2)\n",
        "    #scaler =  StandardScaler()\n",
        "    #data3 = scaler.fit_transform(data3)\n",
        "    return data2\n",
        "\n",
        "def preprocessing(valor):\n",
        "    valor.reverse()\n",
        "    valor = np.asarray(valor)\n",
        "    aux = ''\n",
        "    for i in range(0,valor.size,1):\n",
        "      if valor[i] != '-1' :\n",
        "        aux = valor[i]\n",
        "      else:\n",
        "        valor[i] = aux\n",
        "    valor = valor.astype(np.int)\n",
        "    valor = valor.reshape(-1,1)\n",
        "    #scaler =  StandardScaler()\n",
        "    #valor = scaler.fit_transform(valor)\n",
        "    return valor\n",
        "\n",
        "def polynomial_regression(x,y,a):\n",
        "    polyLinearRegression = PoissonRegressor(warm_start=False)\n",
        "    polyLinearRegression = polyLinearRegression.fit(x,y)\n",
        "    return polyLinearRegression\n",
        "\n",
        "def showPlot(XPoints, yPoints, x , y):\n",
        "    plt.scatter(x,y,color = 'red') #Mostra os pontos reais dos dados\n",
        "    plt.scatter(XPoints,yPoints,color = 'blue') #Mostra os pontos preditos pelo modelo\n",
        "    plt.title(\"Comparando pontos reais com a reta produzida pela regressão polinomial\")\n",
        "    plt.xlabel(\"Data\")\n",
        "    plt.ylabel(\"Confirmados\")\n",
        "    plt.show()\n",
        "\n",
        "if __name__ == \"__main__\":\n",
        "    \n",
        "    with open('covid_bom_jesus_do_itabapoana.json', 'r') as json_file:\n",
        "      lista = json.load(json_file)\n",
        "    data = []\n",
        "    confirmados = []\n",
        "    monitorados = []\n",
        "    curados = []\n",
        "    mortes = []\n",
        "    #lista = json.loads(arq)\n",
        "    print (type(lista))\n",
        "    for i,nome in enumerate(lista):\n",
        "      dicionario = lista[i]\n",
        "      data.append(dicionario[\"data\"])\n",
        "      confirmados.append(dicionario[\"confirmados\"])\n",
        "      monitorados.append(dicionario[\"monitorados\"])\n",
        "      curados.append(dicionario[\"curados\"])\n",
        "      mortes.append(dicionario[\"óbitos\"])\n",
        "    confirmados = preprocessing(confirmados)\n",
        "    monitorados = preprocessing(monitorados)\n",
        "    curados = preprocessing(curados)\n",
        "    mortes = preprocessing(mortes)\n",
        "    datas = convertedatas(data)\n",
        "    xtreinodata, xtestedata, ytreinoconf, ytesteconf = train_test_split(datas, confirmados, test_size = 0.1, random_state = 0)\n",
        "    xtreinodata, xtestedata, ytreinomoni, ytestemoni = train_test_split(datas, monitorados, test_size = 0.1,random_state = 0 )\n",
        "    xtreinodata, xtestedata, ytreinocura, ytestecura = train_test_split(datas, curados, test_size = 0.1, random_state = 0)\n",
        "    xtreinodata, xtestedata, ytreinomortes, ytestemortes= train_test_split(datas, mortes, test_size = 0.1, random_state = 0)\n",
        "    xtreinoaux = xtreinodata\n",
        "    xtesteaux =  xtestedata\n",
        "    xtestedata = xtestedata\n",
        "    xtreinodata = xtreinodata\n",
        "    pr1 = polynomial_regression(xtreinodata,ytreinoconf,1)\n",
        "    pr2 = polynomial_regression(xtreinodata,ytreinomoni,1)\n",
        "    pr3 = polynomial_regression(xtreinodata, ytreinocura,1)\n",
        "    pr4 = polynomial_regression(xtreinodata,ytreinomortes,1)\n",
        "    xaux = [116,117,118,119,120]\n",
        "    xaux = np.asarray(xaux)\n",
        "    xaux= xaux.reshape(-1,1)\n",
        "    yaux = pr1.predict(xaux)\n",
        "    print(yaux)\n",
        "    nt1,y1 = evaluate(pr1,xtestedata,ytesteconf)\n",
        "    nt2,y2 = evaluate(pr2,xtestedata,ytestemoni)\n",
        "    nt3,y3 = evaluate(pr3,xtestedata,ytestecura)\n",
        "    nt4,y4= evaluate(pr4,xtestedata,ytestemortes)\n",
        "    xaux = [116,117,118,119,120]\n",
        " \n",
        "    #print(ytesteconf.shape,xtestedata.shape,y1.shape)\n",
        "    showPlot(datas,confirmados,xtestedata,y1)\n",
        "    showPlot(datas,monitorados,xtestedata,y2)\n",
        "    showPlot(datas,curados,xtestedata,y3)\n",
        "    showPlot(datas,mortes,xtestedata,y4)"
      ],
      "execution_count": null,
      "outputs": [
        {
          "output_type": "stream",
          "text": [
            "Uninstalling scikit-learn-0.23.1:\n",
            "  Would remove:\n",
            "    /usr/local/lib/python3.6/dist-packages/scikit_learn-0.23.1.dist-info/*\n",
            "    /usr/local/lib/python3.6/dist-packages/scikit_learn.libs/libgomp-3300acd3.so.1.0.0\n",
            "    /usr/local/lib/python3.6/dist-packages/sklearn/*\n",
            "Proceed (y/n)? y\n",
            "  Successfully uninstalled scikit-learn-0.23.1\n",
            "Collecting scikit-learn\n",
            "  Using cached https://files.pythonhosted.org/packages/d9/3a/eb8d7bbe28f4787d140bb9df685b7d5bf6115c0e2a969def4027144e98b6/scikit_learn-0.23.1-cp36-cp36m-manylinux1_x86_64.whl\n",
            "Requirement already satisfied: threadpoolctl>=2.0.0 in /usr/local/lib/python3.6/dist-packages (from scikit-learn) (2.1.0)\n",
            "Requirement already satisfied: scipy>=0.19.1 in /usr/local/lib/python3.6/dist-packages (from scikit-learn) (1.4.1)\n",
            "Requirement already satisfied: numpy>=1.13.3 in /usr/local/lib/python3.6/dist-packages (from scikit-learn) (1.18.5)\n",
            "Requirement already satisfied: joblib>=0.11 in /usr/local/lib/python3.6/dist-packages (from scikit-learn) (0.16.0)\n",
            "Installing collected packages: scikit-learn\n",
            "Successfully installed scikit-learn-0.23.1\n"
          ],
          "name": "stdout"
        },
        {
          "output_type": "display_data",
          "data": {
            "application/vnd.colab-display-data+json": {
              "pip_warning": {
                "packages": [
                  "sklearn"
                ]
              }
            }
          },
          "metadata": {
            "tags": []
          }
        },
        {
          "output_type": "stream",
          "text": [
            "<class 'dict'>\n"
          ],
          "name": "stdout"
        },
        {
          "output_type": "error",
          "ename": "KeyError",
          "evalue": "ignored",
          "traceback": [
            "\u001b[0;31m---------------------------------------------------------------------------\u001b[0m",
            "\u001b[0;31mKeyError\u001b[0m                                  Traceback (most recent call last)",
            "\u001b[0;32m<ipython-input-2-48a797c0c37c>\u001b[0m in \u001b[0;36m<module>\u001b[0;34m()\u001b[0m\n\u001b[1;32m     75\u001b[0m     \u001b[0mprint\u001b[0m \u001b[0;34m(\u001b[0m\u001b[0mtype\u001b[0m\u001b[0;34m(\u001b[0m\u001b[0mlista\u001b[0m\u001b[0;34m)\u001b[0m\u001b[0;34m)\u001b[0m\u001b[0;34m\u001b[0m\u001b[0;34m\u001b[0m\u001b[0m\n\u001b[1;32m     76\u001b[0m     \u001b[0;32mfor\u001b[0m \u001b[0mi\u001b[0m\u001b[0;34m,\u001b[0m\u001b[0mnome\u001b[0m \u001b[0;32min\u001b[0m \u001b[0menumerate\u001b[0m\u001b[0;34m(\u001b[0m\u001b[0mlista\u001b[0m\u001b[0;34m)\u001b[0m\u001b[0;34m:\u001b[0m\u001b[0;34m\u001b[0m\u001b[0;34m\u001b[0m\u001b[0m\n\u001b[0;32m---> 77\u001b[0;31m       \u001b[0mdicionario\u001b[0m \u001b[0;34m=\u001b[0m \u001b[0mlista\u001b[0m\u001b[0;34m[\u001b[0m\u001b[0mi\u001b[0m\u001b[0;34m]\u001b[0m\u001b[0;34m\u001b[0m\u001b[0;34m\u001b[0m\u001b[0m\n\u001b[0m\u001b[1;32m     78\u001b[0m       \u001b[0mdata\u001b[0m\u001b[0;34m.\u001b[0m\u001b[0mappend\u001b[0m\u001b[0;34m(\u001b[0m\u001b[0mdicionario\u001b[0m\u001b[0;34m[\u001b[0m\u001b[0;34m\"data\"\u001b[0m\u001b[0;34m]\u001b[0m\u001b[0;34m)\u001b[0m\u001b[0;34m\u001b[0m\u001b[0;34m\u001b[0m\u001b[0m\n\u001b[1;32m     79\u001b[0m       \u001b[0mconfirmados\u001b[0m\u001b[0;34m.\u001b[0m\u001b[0mappend\u001b[0m\u001b[0;34m(\u001b[0m\u001b[0mdicionario\u001b[0m\u001b[0;34m[\u001b[0m\u001b[0;34m\"confirmados\"\u001b[0m\u001b[0;34m]\u001b[0m\u001b[0;34m)\u001b[0m\u001b[0;34m\u001b[0m\u001b[0;34m\u001b[0m\u001b[0m\n",
            "\u001b[0;31mKeyError\u001b[0m: 0"
          ]
        }
      ]
    },
    {
      "cell_type": "code",
      "metadata": {
        "id": "VkZNL5WzaJyj",
        "colab_type": "code",
        "colab": {}
      },
      "source": [
        ""
      ],
      "execution_count": null,
      "outputs": []
    }
  ]
}